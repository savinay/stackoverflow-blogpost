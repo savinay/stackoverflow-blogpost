{
 "cells": [
  {
   "cell_type": "markdown",
   "metadata": {},
   "source": [
    "## Business understanding\n",
    "\n",
    "In this analysis, we want to analyze the trends in the technology industry over the years. We take the data from stackoverflow survey from 2011 to 2019 for this purpose and try to answer the following questions?\n",
    "\n",
    "1. Growth of Women in Technology?\n",
    "2. Most popular programming language?\n",
    "3. Which country has the most developers?\n",
    "4. Most popular Development Environment?"
   ]
  },
  {
   "cell_type": "code",
   "execution_count": 345,
   "metadata": {},
   "outputs": [],
   "source": [
    "import pandas as pd\n",
    "import chardet\n",
    "import pandas as pd\n",
    "import matplotlib.pyplot as plt\n",
    "import collections\n",
    "import numpy as np\n",
    "\n",
    "pd.set_option('display.max_columns', 500)"
   ]
  },
  {
   "cell_type": "code",
   "execution_count": 2,
   "metadata": {},
   "outputs": [],
   "source": [
    "'''find out the character encoding of the files'''\n",
    "\n",
    "with open('2011 Stack Overflow Survey Results.csv', 'rb') as f:\n",
    "    result_2011 = chardet.detect(f.read())\n",
    "\n",
    "with open('2012 Stack Overflow Survey Results.csv', 'rb') as f:\n",
    "    result_2012 = chardet.detect(f.read())\n"
   ]
  },
  {
   "cell_type": "markdown",
   "metadata": {},
   "source": [
    "## Data understanding and Reading"
   ]
  },
  {
   "cell_type": "code",
   "execution_count": 3,
   "metadata": {},
   "outputs": [],
   "source": [
    "'''read the csv files from 2011 to 2019 and understanding the data to decide what questions I would like to answer'''\n",
    "\n",
    "df_2011 = pd.read_csv('2011 Stack Overflow Survey Results.csv', encoding = result_2011['encoding'], low_memory=False)\n",
    "df_2012 = pd.read_csv('2012 Stack Overflow Survey Results.csv', encoding = result_2012['encoding'], low_memory=False)\n",
    "df_2013 = pd.read_csv('2013 Stack Overflow Survey Responses.csv', low_memory=False)\n",
    "df_2014 = pd.read_csv('2014 Stack Overflow Survey Responses.csv', low_memory=False)\n",
    "df_2015 = pd.read_csv('2015 Stack Overflow Developer Survey Responses.csv', header=1, low_memory=False)\n",
    "df_2016 = pd.read_csv('2016 Stack Overflow Survey Responses.csv', low_memory=False)\n",
    "df_2017 = pd.read_csv('survey_results_public_2017.csv', low_memory=False)\n",
    "df_2018 = pd.read_csv('survey_results_public_2018.csv', low_memory=False)\n",
    "df_2019 = pd.read_csv('survey_results_public.csv', low_memory=False)"
   ]
  },
  {
   "cell_type": "markdown",
   "metadata": {},
   "source": [
    " For each of the questions I want to answer, I went through each year's dataframe and tried to understand which column makes sense. If that column is missing in that year's data, I did not take that year in consideration. I manipulated the data in a way that it answers my questions. For instance, to understand the most popular languages, there were single columns for each language. I took a value_count of each column which returns me the number of non-null values for it. This helped me find the language which most developers have worked on."
   ]
  },
  {
   "cell_type": "markdown",
   "metadata": {},
   "source": [
    "# Handling missing values \n",
    "\n",
    "To calculate my results, I am not taking into account any missing values and ignoring them."
   ]
  },
  {
   "cell_type": "markdown",
   "metadata": {},
   "source": [
    "# Preparing Data and Evaluating Results\n"
   ]
  },
  {
   "cell_type": "markdown",
   "metadata": {},
   "source": [
    "## Finding the growth in percentage of females on Stackoverflow between 2014 - 2018"
   ]
  },
  {
   "cell_type": "markdown",
   "metadata": {},
   "source": [
    "There is no column for gender for the data between 2011 and 2013."
   ]
  },
  {
   "cell_type": "code",
   "execution_count": 344,
   "metadata": {},
   "outputs": [
    {
     "data": {
      "text/plain": [
       "<matplotlib.axes._subplots.AxesSubplot at 0x12266eba8>"
      ]
     },
     "execution_count": 344,
     "metadata": {},
     "output_type": "execute_result"
    },
    {
     "data": {
      "image/png": "[encoded data removed]",
      "text/plain": [
       "<Figure size 432x288 with 1 Axes>"
      ]
     },
     "metadata": {},
     "output_type": "display_data"
    },
    {
     "data": {
      "image/png": "[encoded data removed]",
      "text/plain": [
       "<Figure size 432x288 with 1 Axes>"
      ]
     },
     "metadata": {},
     "output_type": "display_data"
    }
   ],
   "source": [
    "'''Calculating percentage of females in each year'''\n",
    "#Evaluate results for growth of women in technology\n",
    "perc_females_2014 = df_2014['What is your gender?'].value_counts()['Female']/df_2014['What is your gender?'].count() * 100\n",
    "perc_females_2015 = df_2015['Gender'].value_counts()['Female']/df_2015['Gender'].count() * 100\n",
    "perc_females_2016 = df_2016['gender'].value_counts()['Female']/df_2016['gender'].count() * 100\n",
    "perc_females_2017 = df_2017['Gender'].value_counts()['Female']/df_2017['Gender'].count() * 100\n",
    "perc_females_2018 = df_2018['Gender'].value_counts()['Female']/df_2018['Gender'].count() * 100\n",
    "perc_females_2019 = df_2019['Gender'].value_counts()['Woman']/df_2019['Gender'].count() * 100\n",
    "\n",
    "#bar plot to find the percentage of women respondents each year\n",
    "female_growth_df = pd.DataFrame({'year':['2014', '2015', '2016', '2017', '2018', '2019'], 'percentage of females':[perc_females_2014, perc_females_2015, perc_females_2016, perc_females_2017, perc_females_2018, perc_females_2019]})\n",
    "female_growth_df.plot.bar(x='year', y='percentage of females', rot=0)\n",
    "\n",
    "'''Calculating percentage of males in each year'''\n",
    "perc_males_2019 = df_2019['Gender'].value_counts()['Man']/df_2019['Gender'].count() * 100\n",
    "perc_males_2018 = df_2018['Gender'].value_counts()['Male']/df_2018['Gender'].count() * 100\n",
    "perc_males_2017 = df_2017['Gender'].value_counts()['Male']/df_2017['Gender'].count() * 100\n",
    "perc_males_2016 = df_2016['gender'].value_counts()['Male']/df_2016['gender'].count() * 100\n",
    "perc_males_2014 = df_2014['What is your gender?'].value_counts()['Male']/df_2014['What is your gender?'].count() * 100\n",
    "perc_males_2015 = df_2015['Gender'].value_counts()['Male']/df_2015['Gender'].count() * 100\n",
    "\n",
    "#bar plot to find the percentage of men respondents each year\n",
    "male_growth_df = pd.DataFrame({'year':['2014', '2015', '2016', '2017', '2018', '2019'], 'percentage of males':[perc_males_2014, perc_males_2015, perc_males_2016, perc_males_2017, perc_males_2018, perc_males_2019]})\n",
    "male_growth_df.plot.bar(x='year', y='percentage of males', rot=0)"
   ]
  },
  {
   "cell_type": "markdown",
   "metadata": {},
   "source": [
    "## Popularity of programming languages over the years"
   ]
  },
  {
   "cell_type": "code",
   "execution_count": 136,
   "metadata": {},
   "outputs": [],
   "source": [
    "def find_most_popular_language(input_value, rows):\n",
    "    \n",
    "    '''Find the most popular language each year\n",
    "    Input: 1. list of series giving the number of respondents using each language\n",
    "           2. total number of rows in the dataframe\n",
    "    Returns the programming language that most developers use for that year\n",
    "    '''\n",
    "    \n",
    "    super_dict = collections.defaultdict(int)\n",
    "    try:\n",
    "        for series in input_value:\n",
    "            for key in series.to_dict():\n",
    "                super_dict[key.lower()] += series[key]\n",
    "    except:\n",
    "        for languages in input_value:\n",
    "            if not pd.isnull(languages): \n",
    "                list_languages = languages.split(\";\")\n",
    "                for val in list_languages:\n",
    "                    super_dict[val.lower()] += 1\n",
    "    return max(super_dict, key=super_dict.get), max(super_dict.values())/rows * 100\n",
    "    \n",
    "    \n"
   ]
  },
  {
   "cell_type": "code",
   "execution_count": 265,
   "metadata": {},
   "outputs": [
    {
     "name": "stdout",
     "output_type": "stream",
     "text": [
      "('sql', 57.356076759061835) ('sql', 52.77065983344011) ('javascript', 48.609257928769374) ('javascript', 49.50287807430664) ('javascript', 45.85601472053975) (' javascript', 40.34624308406211) (' sql', 35.93166251556663) ('javascript', 55.319407212584096) ('javascript', 66.62578895851851)\n"
     ]
    }
   ],
   "source": [
    "#find the most popular language for each year\n",
    "\n",
    "most_popular_language_2011 = find_most_popular_language(\n",
    "    [\n",
    "        df_2011['Which languages are you proficient in?'].value_counts(), \n",
    "        df_2011['Unnamed: 31'].value_counts(),\n",
    "        df_2011['Unnamed: 32'].value_counts(),\n",
    "        df_2011['Unnamed: 33'].value_counts(),\n",
    "        df_2011['Unnamed: 34'].value_counts(),\n",
    "        df_2011['Unnamed: 35'].value_counts(),\n",
    "        df_2011['Unnamed: 36'].value_counts(),\n",
    "        df_2011['Unnamed: 37'].value_counts(),\n",
    "        df_2011['Unnamed: 38'].value_counts(),\n",
    "        df_2011['Unnamed: 39'].value_counts(),\n",
    "        df_2011['Unnamed: 40'].value_counts()\n",
    "    ], df_2011.shape[0]\n",
    "   )\n",
    "\n",
    "most_popular_language_2012 = find_most_popular_language(\n",
    "    [\n",
    "        df_2012['Which languages are you proficient in?'].value_counts(), \n",
    "        df_2012['Unnamed: 23'].value_counts(),\n",
    "        df_2012['Unnamed: 24'].value_counts(),\n",
    "        df_2012['Unnamed: 25'].value_counts(),\n",
    "        df_2012['Unnamed: 26'].value_counts(),\n",
    "        df_2012['Unnamed: 27'].value_counts(),\n",
    "        df_2012['Unnamed: 28'].value_counts(),\n",
    "        df_2012['Unnamed: 29'].value_counts(),\n",
    "        df_2012['Unnamed: 30'].value_counts(),\n",
    "        df_2012['Unnamed: 31'].value_counts(),\n",
    "        df_2012['Unnamed: 32'].value_counts(),\n",
    "        df_2012['Unnamed: 33'].value_counts(),\n",
    "        df_2012['Unnamed: 34'].value_counts()\n",
    "    ], df_2012.shape[0]\n",
    "   )\n",
    "\n",
    "most_popular_language_2013 = find_most_popular_language(\n",
    "    [\n",
    "        df_2013['Which of the following languages or technologies have you used significantly in the past year?'].value_counts(), \n",
    "        df_2013['Unnamed: 57'].value_counts(),\n",
    "        df_2013['Unnamed: 58'].value_counts(),\n",
    "        df_2013['Unnamed: 59'].value_counts(),\n",
    "        df_2013['Unnamed: 60'].value_counts(),\n",
    "        df_2013['Unnamed: 61'].value_counts(),\n",
    "        df_2013['Unnamed: 62'].value_counts(),\n",
    "        df_2013['Unnamed: 63'].value_counts(),\n",
    "        df_2013['Unnamed: 64'].value_counts(),\n",
    "        df_2013['Unnamed: 65'].value_counts(),\n",
    "        df_2013['Unnamed: 66'].value_counts(),\n",
    "        df_2013['Unnamed: 67'].value_counts(),\n",
    "        df_2013['Unnamed: 68'].value_counts()\n",
    "    ], df_2013.shape[0]\n",
    "   )\n",
    "\n",
    "most_popular_language_2014 = find_most_popular_language(\n",
    "    [\n",
    "        df_2014['Which of the following languages or technologies have you used significantly in the past year?'].value_counts(), \n",
    "        df_2014['Unnamed: 43'].value_counts(),\n",
    "        df_2014['Unnamed: 44'].value_counts(),\n",
    "        df_2014['Unnamed: 45'].value_counts(),\n",
    "        df_2014['Unnamed: 46'].value_counts(),\n",
    "        df_2014['Unnamed: 47'].value_counts(),\n",
    "        df_2014['Unnamed: 48'].value_counts(),\n",
    "        df_2014['Unnamed: 49'].value_counts(),\n",
    "        df_2014['Unnamed: 50'].value_counts(),\n",
    "        df_2014['Unnamed: 51'].value_counts(),\n",
    "        df_2014['Unnamed: 52'].value_counts(),\n",
    "        df_2014['Unnamed: 53'].value_counts(),\n",
    "    ], df_2014.shape[0]\n",
    "   )\n",
    "\n",
    "most_popular_language_2015 = find_most_popular_language(\n",
    "    [\n",
    "        df_2015['Current Lang & Tech: AngularJS'].value_counts(), \n",
    "        df_2015['Current Lang & Tech: C'].value_counts(),\n",
    "        df_2015['Current Lang & Tech: C++'].value_counts(),\n",
    "        df_2015['Current Lang & Tech: C++11'].value_counts(),\n",
    "        df_2015['Current Lang & Tech: C#'].value_counts(),\n",
    "        df_2015['Current Lang & Tech: Cassandra'].value_counts(),\n",
    "        df_2015['Current Lang & Tech: CoffeeScript'].value_counts(),\n",
    "        df_2015['Current Lang & Tech: Cordova'].value_counts(),\n",
    "        df_2015['Current Lang & Tech: Clojure'].value_counts(),\n",
    "        df_2015['Current Lang & Tech: Dart'].value_counts(),\n",
    "        df_2015['Current Lang & Tech: F#'].value_counts(),\n",
    "        df_2015['Current Lang & Tech: Go'].value_counts(),\n",
    "        df_2015['Current Lang & Tech: Hadoop'].value_counts(),\n",
    "        df_2015['Current Lang & Tech: Haskell'].value_counts(),\n",
    "        df_2015['Current Lang & Tech: Java'].value_counts(),\n",
    "        df_2015['Current Lang & Tech: JavaScript'].value_counts(),\n",
    "        df_2015['Current Lang & Tech: Matlab'].value_counts(),\n",
    "        df_2015['Current Lang & Tech: MongoDB'].value_counts(),\n",
    "        df_2015['Current Lang & Tech: Node.js'].value_counts(),\n",
    "        df_2015['Current Lang & Tech: Objective-C'].value_counts(),\n",
    "        df_2015['Current Lang & Tech: Perl'].value_counts(),\n",
    "        df_2015['Current Lang & Tech: PHP'].value_counts(),\n",
    "        df_2015['Current Lang & Tech: Python'].value_counts(),\n",
    "        df_2015['Current Lang & Tech: R'].value_counts(),\n",
    "        df_2015['Current Lang & Tech: Redis'].value_counts(),\n",
    "        df_2015['Current Lang & Tech: Ruby'].value_counts(),\n",
    "        df_2015['Current Lang & Tech: Scala'].value_counts(),\n",
    "        df_2015['Current Lang & Tech: SQL'].value_counts(),\n",
    "        df_2015['Current Lang & Tech: Swift'].value_counts(),\n",
    "    ], df_2015.shape[0]\n",
    "   )\n",
    "\n",
    "most_popular_language_2016 = find_most_popular_language(df_2016['tech_do'], df_2016.shape[0])\n",
    "most_popular_language_2017 = find_most_popular_language(df_2017['HaveWorkedLanguage'], df_2017.shape[0])\n",
    "most_popular_language_2018 = find_most_popular_language(df_2018['LanguageWorkedWith'], df_2018.shape[0])\n",
    "most_popular_language_2019 = find_most_popular_language(df_2019['LanguageWorkedWith'], df_2019.shape[0])\n",
    "\n",
    "print(most_popular_language_2011, \n",
    "      most_popular_language_2012, \n",
    "      most_popular_language_2013, \n",
    "      most_popular_language_2014,\n",
    "      most_popular_language_2015,\n",
    "      most_popular_language_2016,\n",
    "      most_popular_language_2017,\n",
    "      most_popular_language_2018,\n",
    "      most_popular_language_2019\n",
    "     )\n",
    "\n",
    "most_popular_languages_dict = {\n",
    "    '2011': most_popular_language_2011,\n",
    "    '2012': most_popular_language_2012,\n",
    "    '2013': most_popular_language_2013,\n",
    "    '2014': most_popular_language_2014,\n",
    "    '2015': most_popular_language_2015,\n",
    "    '2016': most_popular_language_2016,\n",
    "    '2017': most_popular_language_2017,\n",
    "    '2018': most_popular_language_2018,\n",
    "    '2019': most_popular_language_2019\n",
    "}\n",
    "\n"
   ]
  },
  {
   "cell_type": "code",
   "execution_count": 335,
   "metadata": {
    "scrolled": true
   },
   "outputs": [
    {
     "data": {
      "image/png": "[encoded data removed]",
      "text/plain": [
       "<Figure size 1080x720 with 1 Axes>"
      ]
     },
     "metadata": {},
     "output_type": "display_data"
    }
   ],
   "source": [
    "#plot to find the most popular language\n",
    "\n",
    "df=pd.DataFrame({'percentage of users': list(map(lambda x: x[1], most_popular_languages_dict.values()))},index=list(most_popular_languages_dict.keys()) ) \n",
    "ax = df.plot.bar(figsize=(15,10), color=[plt.cm.Paired(np.arange(len(df)))])\n",
    "for i, p in enumerate(list(ax.patches)):\n",
    "    ax.annotate(str(list(map(lambda x: x[0], most_popular_languages_dict.values()))[i]), (p.get_x() * 1.005, p.get_height() * 1.005))"
   ]
  },
  {
   "cell_type": "markdown",
   "metadata": {},
   "source": [
    "## Where do we find most developers in the last 5 years?"
   ]
  },
  {
   "cell_type": "code",
   "execution_count": 216,
   "metadata": {},
   "outputs": [],
   "source": [
    "def location_where_most_developers_found(dictionary, rows):\n",
    "    '''Input: number of developers for each country as key\n",
    "       Output: country with the most number of developers and the value\n",
    "    '''\n",
    "    \n",
    "    return max(dictionary, key=dictionary.get), max(dictionary.values())/rows * 100"
   ]
  },
  {
   "cell_type": "code",
   "execution_count": 328,
   "metadata": {},
   "outputs": [],
   "source": [
    "#find the country with the most number of developers for each year\n",
    "most_developers_location_2011 = location_where_most_developers_found(df_2011['What Country or Region do you live in?'].value_counts().to_dict(), df_2011['What Country or Region do you live in?'].count())\n",
    "most_developers_location_2012 = location_where_most_developers_found(df_2012['What Country or Region do you live in?'].value_counts().to_dict(), df_2012['What Country or Region do you live in?'].count())\n",
    "most_developers_location_2013 = location_where_most_developers_found(df_2013['What Country or Region do you live in?'].value_counts().to_dict(), df_2013['What Country or Region do you live in?'].count())\n",
    "most_developers_location_2014 = location_where_most_developers_found(df_2014['What Country do you live in?'].value_counts().to_dict(), df_2014['What Country do you live in?'].count())\n",
    "most_developers_location_2015 = location_where_most_developers_found(df_2015['Country'].value_counts().to_dict(), df_2015['Country'].count())\n",
    "most_developers_location_2016 = location_where_most_developers_found(df_2016['country'].value_counts().to_dict(), df_2016['country'].count())\n",
    "most_developers_location_2017 = location_where_most_developers_found(df_2017['Country'].value_counts().to_dict(), df_2017['Country'].count())\n",
    "most_developers_location_2018 = location_where_most_developers_found(df_2018['Country'].value_counts().to_dict(), df_2018['Country'].count())\n",
    "most_developers_location_2019 = location_where_most_developers_found(df_2019['Country'].value_counts().to_dict(), df_2019['Country'].count())\n",
    "\n",
    "most_developers_location_dict = {\n",
    "    '2011': most_developers_location_2011,\n",
    "    '2012': most_developers_location_2012,\n",
    "    '2013': most_developers_location_2013,\n",
    "    '2014': most_developers_location_2014,\n",
    "    '2015': most_developers_location_2015,\n",
    "    '2016': most_developers_location_2016,\n",
    "    '2017': most_developers_location_2017,\n",
    "    '2018': most_developers_location_2018,\n",
    "    '2019': most_developers_location_2019\n",
    "}"
   ]
  },
  {
   "cell_type": "code",
   "execution_count": 338,
   "metadata": {
    "scrolled": true
   },
   "outputs": [
    {
     "data": {
      "image/png": "[encoded data removed]",
      "text/plain": [
       "<Figure size 1080x720 with 1 Axes>"
      ]
     },
     "metadata": {},
     "output_type": "display_data"
    }
   ],
   "source": [
    "#bar chart to display the country with the most number of developers\n",
    "\n",
    "most_developers_location_df=pd.DataFrame({'percentage of developers': list(map(lambda x: x[1], most_developers_location_dict.values()))},index=list(most_developers_location_dict.keys()) ) \n",
    "ax = most_developers_location_df.plot.bar(figsize=(15,10), color=[plt.cm.Paired(np.arange(len(df)))])\n",
    "for i, p in enumerate(list(ax.patches)):\n",
    "    ax.annotate(str(list(map(lambda x: x[0], most_developers_location_dict.values()))[i]), (p.get_x() * 1.005, p.get_height() * 1.005))"
   ]
  },
  {
   "cell_type": "markdown",
   "metadata": {},
   "source": [
    "## Most popular Development environments"
   ]
  },
  {
   "cell_type": "code",
   "execution_count": 284,
   "metadata": {},
   "outputs": [],
   "source": [
    "def most_popular_dev_env(input_value, rows):\n",
    "    '''Input: panda series of development env for each year, total number of non-null values\n",
    "       Output: most popular development environment and the number of developers using it\n",
    "    '''\n",
    "    dictionary = collections.defaultdict(int)\n",
    "    for ides in input_value:\n",
    "        if not pd.isnull(ides): \n",
    "            list_ides = ides.split(\";\")\n",
    "            for val in list_ides:\n",
    "                dictionary[val.lower()] += 1\n",
    "    return max(dictionary, key=dictionary.get), max(dictionary.values())/rows * 100"
   ]
  },
  {
   "cell_type": "code",
   "execution_count": 330,
   "metadata": {},
   "outputs": [
    {
     "name": "stdout",
     "output_type": "stream",
     "text": [
      "{'2017': (' visual studio', 31.200111638291933), '2018': ('visual studio code', 34.855035942597944), '2019': ('visual studio code', 50.747277162522764)}\n"
     ]
    }
   ],
   "source": [
    "# find the most popular IDE for each year\n",
    "most_popular_dev_env_2017 = most_popular_dev_env(df_2017['IDE'], df_2017['IDE'].count())\n",
    "most_popular_dev_env_2018 = most_popular_dev_env(df_2018['IDE'], df_2018['IDE'].count())\n",
    "most_popular_dev_env_2019 = most_popular_dev_env(df_2019['DevEnviron'], df_2019['DevEnviron'].count())\n",
    "\n",
    "most_popular_dev_env_dict = {\n",
    "    '2017': most_popular_dev_env_2017,\n",
    "    '2018': most_popular_dev_env_2018,\n",
    "    '2019': most_popular_dev_env_2019\n",
    "}\n",
    "\n",
    "print(most_popular_dev_env_dict)"
   ]
  },
  {
   "cell_type": "code",
   "execution_count": 339,
   "metadata": {},
   "outputs": [
    {
     "data": {
      "image/png": "[encoded data removed]",
      "text/plain": [
       "<Figure size 1080x720 with 1 Axes>"
      ]
     },
     "metadata": {},
     "output_type": "display_data"
    }
   ],
   "source": [
    "#bar chart to display the most popular IDE for each year\n",
    "\n",
    "df=pd.DataFrame({'percentage of users': list(map(lambda x: x[1], most_popular_dev_env_dict.values()))},index=list(most_popular_dev_env_dict.keys()) ) \n",
    "ax = df.plot.bar(figsize=(15,10), color=[plt.cm.Paired(np.arange(len(df)))])\n",
    "for i, p in enumerate(list(ax.patches)):\n",
    "    ax.annotate(str(list(map(lambda x: x[0], most_popular_dev_env_dict.values()))[i]), (p.get_x() * 1.005, p.get_height() * 1.005))"
   ]
  },
  {
   "cell_type": "markdown",
   "metadata": {},
   "source": [
    "# Data Modeling\n",
    "There is no data modelling as I am not using any machine learning methods for the questions I need to answer"
   ]
  }
 ],
 "metadata": {
  "kernelspec": {
   "display_name": "Python 3",
   "language": "python",
   "name": "python3"
  },
  "language_info": {
   "codemirror_mode": {
    "name": "ipython",
    "version": 3
   },
   "file_extension": ".py",
   "mimetype": "text/x-python",
   "name": "python",
   "nbconvert_exporter": "python",
   "pygments_lexer": "ipython3",
   "version": "3.6.6"
  }
 },
 "nbformat": 4,
 "nbformat_minor": 2
}
